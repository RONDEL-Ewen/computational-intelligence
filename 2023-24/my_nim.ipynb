{
  "nbformat": 4,
  "nbformat_minor": 0,
  "metadata": {
    "colab": {
      "provenance": [],
      "collapsed_sections": [
        "PIS0xjXKKZh9",
        "kaFJyVbOKj_8",
        "NIUOqSGtPqBt",
        "UbRa8-_yotqE",
        "z1fNbiMurriL",
        "esuhjPsPo86L",
        "lYoJBk3ppAkO",
        "QMzGOoM6pEab",
        "H5wqWtjpK7PM",
        "O7nLU_uli9EW",
        "t6r2m05JksQk",
        "nl4JmBags3Ux",
        "YosMfajFi_yZ",
        "EhluSTh0oiWh",
        "xTDh4DoypyOu"
      ],
      "toc_visible": true
    },
    "kernelspec": {
      "name": "python3",
      "display_name": "Python 3"
    },
    "language_info": {
      "name": "python"
    }
  },
  "cells": [
    {
      "cell_type": "markdown",
      "source": [
        "## Task\n",
        "\n",
        "Write agents able to play Nim, with an arbitrary number of rows and an upper bound  𝑘\n",
        "  on the number of objects that can be removed in a turn (a.k.a., subtraction game).\n",
        "\n",
        "The goal of the game is to avoid taking the last object.\n",
        "\n",
        "Task2.1: An agent using fixed rules based on nim-sum (i.e., an expert system)  \n",
        "Task2.2: An agent using evolved rules using ES"
      ],
      "metadata": {
        "id": "cAnuF1xIKDrF"
      }
    },
    {
      "cell_type": "code",
      "execution_count": null,
      "metadata": {
        "id": "1KShUOFaJ33g"
      },
      "outputs": [],
      "source": [
        "from collections import namedtuple\n",
        "from pprint import pprint, pformat\n",
        "from copy import deepcopy\n",
        "import numpy as np\n",
        "import logging\n",
        "import random"
      ]
    },
    {
      "cell_type": "markdown",
      "source": [
        "## The Nim and Nimply classes"
      ],
      "metadata": {
        "id": "PIS0xjXKKZh9"
      }
    },
    {
      "cell_type": "code",
      "source": [
        "Nimply = namedtuple(\"Nimply\", \"row, num_objects\")"
      ],
      "metadata": {
        "id": "fFVD2795Kcc8"
      },
      "execution_count": null,
      "outputs": []
    },
    {
      "cell_type": "code",
      "source": [
        "class Nim:\n",
        "\n",
        "    def __init__(self, num_rows: int, k: int = None) -> None:\n",
        "        self._rows = [i * 2 + 1 for i in range(num_rows)]\n",
        "        self._k = k\n",
        "\n",
        "    def __bool__(self):\n",
        "        return sum(self._rows) > 0\n",
        "\n",
        "    def __str__(self):\n",
        "        return \"<\" + \" \".join(str(_) for _ in self._rows) + \">\"\n",
        "\n",
        "    @property\n",
        "    def rows(self) -> tuple:\n",
        "        return tuple(self._rows)\n",
        "\n",
        "    def nimming(self, ply: Nimply) -> None:\n",
        "        row, num_objects = ply\n",
        "        #print(f\"  Row value: {self._rows[row]}\")\n",
        "        #print(f\"  K: {self._k}\")\n",
        "        #print(f\"  Num objects: {num_objects}\")\n",
        "        assert self._rows[row] >= num_objects\n",
        "        assert self._k is None or num_objects <= self._k\n",
        "        self._rows[row] -= num_objects"
      ],
      "metadata": {
        "id": "_jop9U0CKgHl"
      },
      "execution_count": null,
      "outputs": []
    },
    {
      "cell_type": "markdown",
      "source": [
        "## Strategies"
      ],
      "metadata": {
        "id": "kaFJyVbOKj_8"
      }
    },
    {
      "cell_type": "code",
      "source": [
        "def pure_random(state: Nim) -> Nimply:\n",
        "    \"\"\"A completely random move\"\"\"\n",
        "    row = random.choice([r for r, c in enumerate(state.rows) if c > 0])\n",
        "    num_objects = random.randint(1, state.rows[row])\n",
        "    return Nimply(row, num_objects)"
      ],
      "metadata": {
        "id": "lIkqF0WYKleN"
      },
      "execution_count": null,
      "outputs": []
    },
    {
      "cell_type": "code",
      "source": [
        "def gabriele(state: Nim) -> Nimply:\n",
        "    \"\"\"Pick always the maximum possible number of the lowest row\"\"\"\n",
        "    possible_moves = [(r, o) for r, c in enumerate(state.rows) for o in range(1, c + 1)]\n",
        "    return Nimply(*max(possible_moves, key=lambda m: (-m[0], m[1])))"
      ],
      "metadata": {
        "id": "XZHNxxlbKoe6"
      },
      "execution_count": null,
      "outputs": []
    },
    {
      "cell_type": "code",
      "source": [
        "def adaptive(state: Nim) -> Nimply:\n",
        "    \"\"\"A strategy that can adapt its parameters\"\"\"\n",
        "    genome = {\"love_small\": 0.5}"
      ],
      "metadata": {
        "id": "blVWPvoBKoV7"
      },
      "execution_count": null,
      "outputs": []
    },
    {
      "cell_type": "code",
      "source": [
        "def nim_sum(state: Nim) -> int:\n",
        "    tmp = np.array([tuple(int(x) for x in f\"{c:032b}\") for c in state.rows])\n",
        "    xor = tmp.sum(axis=0) % 2\n",
        "    return int(\"\".join(str(_) for _ in xor), base=2)\n",
        "\n",
        "\n",
        "def analize(raw: Nim) -> dict:\n",
        "    cooked = dict()\n",
        "    cooked[\"possible_moves\"] = dict()\n",
        "    for ply in (Nimply(r, o) for r, c in enumerate(raw.rows) for o in range(1, c + 1)):\n",
        "        tmp = deepcopy(raw)\n",
        "        tmp.nimming(ply)\n",
        "        cooked[\"possible_moves\"][ply] = nim_sum(tmp)\n",
        "    return cooked\n",
        "\n",
        "\n",
        "def optimal(state: Nim) -> Nimply:\n",
        "    analysis = analize(state)\n",
        "    logging.debug(f\"analysis:\\n{pformat(analysis)}\")\n",
        "    spicy_moves = [ply for ply, ns in analysis[\"possible_moves\"].items() if ns != 0]\n",
        "    if not spicy_moves:\n",
        "        spicy_moves = list(analysis[\"possible_moves\"].keys())\n",
        "    ply = random.choice(spicy_moves)\n",
        "    return ply"
      ],
      "metadata": {
        "id": "4gxr8eI7KoI4"
      },
      "execution_count": null,
      "outputs": []
    },
    {
      "cell_type": "markdown",
      "source": [
        "## Fixed rules based agent"
      ],
      "metadata": {
        "id": "NIUOqSGtPqBt"
      }
    },
    {
      "cell_type": "code",
      "source": [
        "def nim_sum_agent(state: Nim) -> Nimply:\n",
        "    # Calculate the actual nim sum\n",
        "    current_nim_sum = nim_sum(state)\n",
        "\n",
        "    # Go through all rows to find a non null nim sum\n",
        "    for row, num_objects in enumerate(state.rows):\n",
        "\n",
        "        if num_objects > 0:\n",
        "            # Calculate the nim sum if num_objects is substracted from the row\n",
        "            new_nim_sum = current_nim_sum ^ num_objects\n",
        "\n",
        "            # If nim sum is changed, it is interesting\n",
        "            if new_nim_sum != current_nim_sum:\n",
        "                return Nimply(row, num_objects)\n",
        "\n",
        "    # If nothing is interesting, play randomly\n",
        "    return gabriele(state)"
      ],
      "metadata": {
        "id": "9SusGaWsPt2S"
      },
      "execution_count": null,
      "outputs": []
    },
    {
      "cell_type": "markdown",
      "source": [
        "## Evolved rules based agent"
      ],
      "metadata": {
        "id": "5vLPby3oPz5W"
      }
    },
    {
      "cell_type": "markdown",
      "source": [
        "### create_random_population()"
      ],
      "metadata": {
        "id": "UbRa8-_yotqE"
      }
    },
    {
      "cell_type": "code",
      "source": [
        "def create_random_population(\n",
        "    nim: Nim,\n",
        "    num_individuals = 50\n",
        "):\n",
        "\n",
        "  population = []\n",
        "\n",
        "  if nim._k is not None:\n",
        "    k = nim._k\n",
        "  else:\n",
        "    k = 10000\n",
        "\n",
        "  for _ in range(num_individuals):\n",
        "    row = random.randint(0, len(nim.rows)-1)\n",
        "    if (nim._rows[row] <= 0) and (k):\n",
        "      maximum = 1\n",
        "    elif (nim._rows[row] <= 0):\n",
        "      maximum = k\n",
        "    elif (k <= 0):\n",
        "      maximum = nim._rows[row]\n",
        "    else:\n",
        "      maximum = min(nim._rows[row], k)\n",
        "    num_objects = random.randint(1, maximum)\n",
        "    population.append(Nimply(row, num_objects))\n",
        "\n",
        "  return population"
      ],
      "metadata": {
        "id": "mz0BfqWOQiuY"
      },
      "execution_count": null,
      "outputs": []
    },
    {
      "cell_type": "markdown",
      "source": [
        "### evaluate_individual()"
      ],
      "metadata": {
        "id": "5QOco9W2oziQ"
      }
    },
    {
      "cell_type": "code",
      "source": [
        "def find_max(\n",
        "    nim: Nim\n",
        "):\n",
        "\n",
        "  max = 0\n",
        "  for i in range(len(nim.rows)):\n",
        "    if (nim.rows[i] > max):\n",
        "      max = nim.rows[i]\n",
        "\n",
        "  return max"
      ],
      "metadata": {
        "id": "x2_qN8dXdX1R"
      },
      "execution_count": null,
      "outputs": []
    },
    {
      "cell_type": "code",
      "source": [
        "def count_elements(\n",
        "    nim: Nim\n",
        "):\n",
        "\n",
        "  sum = 0\n",
        "  for i in range(len(nim.rows)):\n",
        "    sum += nim.rows[i]\n",
        "\n",
        "  return sum"
      ],
      "metadata": {
        "id": "gU2IYdJRZinm"
      },
      "execution_count": null,
      "outputs": []
    },
    {
      "cell_type": "code",
      "source": [
        "def nim_addition_zero(\n",
        "    nim: Nim\n",
        "):\n",
        "\n",
        "    # Get the value of each row\n",
        "    lst = []\n",
        "    for i in range(len(nim.rows)):\n",
        "          lst.append(nim.rows[i])\n",
        "\n",
        "    # Convert every integer into binary\n",
        "    binary_list = [bin(num)[2:] for num in lst]\n",
        "\n",
        "    # Find the maximal binary size for completion\n",
        "    max_len = max(len(b) for b in binary_list)\n",
        "\n",
        "    # Fill all binaries with zeros on the left for completion\n",
        "    binary_list = [b.zfill(max_len) for b in binary_list]\n",
        "\n",
        "    # Perform nim-addition without carry over\n",
        "    result_binary = ''.join('1' if sum(int(b[i]) for b in binary_list) % 2 == 1 else '0' for i in range(max_len))\n",
        "    #print(result_binary)\n",
        "\n",
        "    # Check if nim-addition result is zero\n",
        "    if int(result_binary, 2) == 0:\n",
        "      return 10000\n",
        "    else:\n",
        "      return 0"
      ],
      "metadata": {
        "id": "vrnj4vG0k2AB"
      },
      "execution_count": null,
      "outputs": []
    },
    {
      "cell_type": "code",
      "source": [
        "def evaluate_individual(\n",
        "    nim: Nim,\n",
        "    ply\n",
        "):\n",
        "\n",
        "  if (is_valid_play(nim = nim, ply = ply)):\n",
        "    potential_nim = deepcopy(nim)\n",
        "    potential_nim.nimming(ply)\n",
        "    #print(potential_nim)\n",
        "    return nim_addition_zero(potential_nim)\n",
        "\n",
        "  else:\n",
        "    return 0"
      ],
      "metadata": {
        "id": "T_wBRu_oerpg"
      },
      "execution_count": null,
      "outputs": []
    },
    {
      "cell_type": "markdown",
      "source": [
        "### sort_population()"
      ],
      "metadata": {
        "id": "GLRYdlw6o3hD"
      }
    },
    {
      "cell_type": "code",
      "source": [
        "def sort_population(\n",
        "    nim: Nim,\n",
        "    population\n",
        "):\n",
        "\n",
        "  sorted_population = sorted(\n",
        "      population,\n",
        "      key = lambda x: evaluate_individual(nim = nim, ply = x),\n",
        "      reverse = True\n",
        "  )\n",
        "\n",
        "  return sorted_population"
      ],
      "metadata": {
        "id": "urRUeQlso7MF"
      },
      "execution_count": null,
      "outputs": []
    },
    {
      "cell_type": "markdown",
      "source": [
        "### get_elites()"
      ],
      "metadata": {
        "id": "z1fNbiMurriL"
      }
    },
    {
      "cell_type": "code",
      "source": [
        "def get_elites(\n",
        "    current_population,\n",
        "    elites_ratio = 0.5\n",
        "):\n",
        "\n",
        "  new_pop = []\n",
        "\n",
        "  for i in range(int(len(current_population) * elites_ratio)):\n",
        "    new_pop.append(current_population[i])\n",
        "\n",
        "  return new_pop"
      ],
      "metadata": {
        "id": "RFlfkEx0rvqi"
      },
      "execution_count": null,
      "outputs": []
    },
    {
      "cell_type": "markdown",
      "source": [
        "### is_valid_play()"
      ],
      "metadata": {
        "id": "esuhjPsPo86L"
      }
    },
    {
      "cell_type": "code",
      "source": [
        "def is_valid_play(\n",
        "    nim: Nim,\n",
        "    ply\n",
        "):\n",
        "\n",
        "  if (ply.row < 0) or (ply.row > len(nim.rows)-1) or (ply.num_objects < 1) or (ply.num_objects > nim._rows[ply.row]) or ((nim._k is not None) and (ply.num_objects > nim._k)):\n",
        "    return False\n",
        "\n",
        "  return True"
      ],
      "metadata": {
        "id": "Y1fUUbX3V6Go"
      },
      "execution_count": null,
      "outputs": []
    },
    {
      "cell_type": "markdown",
      "source": [
        "### cross()"
      ],
      "metadata": {
        "id": "lYoJBk3ppAkO"
      }
    },
    {
      "cell_type": "code",
      "source": [
        "def cross(\n",
        "    nim: Nim,\n",
        "    current_population,\n",
        "    elite_population,\n",
        "    cross_ratio = 0.35,\n",
        "    elite_crossing_probability = 0.8\n",
        "):\n",
        "\n",
        "  num_elites = int(len(current_population) * cross_ratio)\n",
        "\n",
        "  crossed_population = []\n",
        "\n",
        "  if nim._k is not None:\n",
        "    k = nim._k\n",
        "  else:\n",
        "    k = 10000\n",
        "\n",
        "  for _ in range(num_elites):\n",
        "\n",
        "    if random.random() <= elite_crossing_probability:\n",
        "      index_1 = random.randint(0, len(elite_population)-1)\n",
        "      index_2 = random.randint(0, len(elite_population)-1)\n",
        "      parent_1 = elite_population[index_1]\n",
        "      parent_2 = elite_population[index_2]\n",
        "    else:\n",
        "      index_1 = random.randint(0, len(current_population)-1)\n",
        "      index_2 = random.randint(0, len(current_population)-1)\n",
        "      parent_1 = current_population[index_1]\n",
        "      parent_2 = current_population[index_2]\n",
        "\n",
        "    child = Nimply(parent_1.row, parent_2.num_objects)\n",
        "    if not is_valid_play(nim, child):\n",
        "      child = Nimply(parent_2.row, parent_1.num_objects)\n",
        "      if not is_valid_play(nim, child):\n",
        "        row = random.randint(0, len(nim.rows)-1)\n",
        "        if (nim._rows[row] <= 0) and (k <= 0):\n",
        "          maximum = 1\n",
        "        elif (nim._rows[row] <= 0):\n",
        "          maximum = k\n",
        "        elif (k <= 0):\n",
        "          maximum = nim._rows[row]\n",
        "        else:\n",
        "          maximum = min(nim._rows[row], k)\n",
        "        num_objects = random.randint(1, maximum)\n",
        "        child = Nimply(row, num_objects)\n",
        "\n",
        "    crossed_population.append(child)\n",
        "\n",
        "  return crossed_population\n"
      ],
      "metadata": {
        "id": "tnfPAh1jQiop"
      },
      "execution_count": null,
      "outputs": []
    },
    {
      "cell_type": "markdown",
      "source": [
        "### mutate()"
      ],
      "metadata": {
        "id": "QMzGOoM6pEab"
      }
    },
    {
      "cell_type": "code",
      "source": [
        "def mutate(\n",
        "    nim: Nim,\n",
        "    current_population,\n",
        "    mutation_ratio = 0.15\n",
        "):\n",
        "\n",
        "  num_mutated = int(len(current_population) * mutation_ratio)\n",
        "\n",
        "  mutated_population = []\n",
        "\n",
        "  if nim._k is not None:\n",
        "    k = nim._k\n",
        "  else:\n",
        "    k = 10000\n",
        "\n",
        "  for _ in range(num_mutated):\n",
        "    row = random.randint(0, len(nim.rows)-1)\n",
        "    if (nim._rows[row] <= 0) and (k <= 0):\n",
        "      maximum = 1\n",
        "    elif (nim._rows[row] <= 0):\n",
        "      maximum = k\n",
        "    elif (k <= 0):\n",
        "      maximum = nim._rows[row]\n",
        "    else:\n",
        "      maximum = min(nim._rows[row], k)\n",
        "    num_objects = random.randint(1, maximum)\n",
        "    mutated_population.append(Nimply(row, num_objects))\n",
        "\n",
        "  return mutated_population"
      ],
      "metadata": {
        "id": "yfDQswCLQiiN"
      },
      "execution_count": null,
      "outputs": []
    },
    {
      "cell_type": "markdown",
      "source": [
        "### evolutionary_agent()"
      ],
      "metadata": {
        "id": "AG26aUpSqm_b"
      }
    },
    {
      "cell_type": "code",
      "source": [
        "def evolutionary_agent(\n",
        "    nim: Nim,\n",
        "    num_generations = 10,\n",
        "    num_individuals = 50,\n",
        "    elites_ratio = 0.5,\n",
        "    cross_ratio = 0.35,\n",
        "    mutation_ratio = 0.15\n",
        "):\n",
        "  # Create first random generation\n",
        "  current_population = create_random_population(nim = nim, num_individuals = num_individuals)\n",
        "  # Go through all generations\n",
        "  for generation in range(num_generations):\n",
        "    # Rank all individuals of the generation from best to worst\n",
        "    ranked_population = sort_population(\n",
        "        nim = nim,\n",
        "        population = current_population)\n",
        "    # Get elite individuals of the generation\n",
        "    elite_population = get_elites(\n",
        "        ranked_population,\n",
        "        elites_ratio = elites_ratio)\n",
        "    # Cross elite individuals to generate new ones\n",
        "    crossed_population = cross(\n",
        "        nim = nim,\n",
        "        current_population = current_population,\n",
        "        elite_population = elite_population,\n",
        "        cross_ratio = cross_ratio,\n",
        "        elite_crossing_probability = 0.8)\n",
        "    # Mutate individuals to generate new ones\n",
        "    mutated_population = mutate(\n",
        "        nim = nim,\n",
        "        current_population = current_population,\n",
        "        mutation_ratio = mutation_ratio)\n",
        "    # Creates the new generation\n",
        "    current_population = elite_population + crossed_population + mutated_population\n",
        "  # Rank all individuals of the last generation from best to worst\n",
        "  population = sort_population(\n",
        "      nim = nim,\n",
        "      population = current_population)\n",
        "  return population[0]"
      ],
      "metadata": {
        "id": "1FPlWnE7Qidi"
      },
      "execution_count": null,
      "outputs": []
    },
    {
      "cell_type": "code",
      "source": [],
      "metadata": {
        "id": "9p6VtUubQiSu"
      },
      "execution_count": null,
      "outputs": []
    },
    {
      "cell_type": "markdown",
      "source": [
        "## Simplified match"
      ],
      "metadata": {
        "id": "H5wqWtjpK7PM"
      }
    },
    {
      "cell_type": "code",
      "source": [
        "logging.getLogger().setLevel(logging.INFO)\n",
        "\n",
        "strategy = (optimal, pure_random)\n",
        "\n",
        "nim = Nim(5)\n",
        "logging.info(f\"init : {nim}\")\n",
        "player = 0\n",
        "while nim:\n",
        "    ply = strategy[player](nim)\n",
        "    logging.info(f\"ply: player {player} plays {ply}\")\n",
        "    nim.nimming(ply)\n",
        "    logging.info(f\"status: {nim}\")\n",
        "    player = 1 - player\n",
        "logging.info(f\"status: Player {player} won!\")"
      ],
      "metadata": {
        "colab": {
          "base_uri": "https://localhost:8080/"
        },
        "id": "NeIAmXE4K-D3",
        "outputId": "7d319ff3-7e52-4fde-ef91-54436b1328fb"
      },
      "execution_count": null,
      "outputs": [
        {
          "output_type": "stream",
          "name": "stderr",
          "text": [
            "INFO:root:init : <1 3 5 7 9>\n",
            "INFO:root:ply: player 0 plays Nimply(row=4, num_objects=6)\n",
            "INFO:root:status: <1 3 5 7 3>\n",
            "INFO:root:ply: player 1 plays Nimply(row=0, num_objects=1)\n",
            "INFO:root:status: <0 3 5 7 3>\n",
            "INFO:root:ply: player 0 plays Nimply(row=3, num_objects=1)\n",
            "INFO:root:status: <0 3 5 6 3>\n",
            "INFO:root:ply: player 1 plays Nimply(row=4, num_objects=3)\n",
            "INFO:root:status: <0 3 5 6 0>\n",
            "INFO:root:ply: player 0 plays Nimply(row=1, num_objects=2)\n",
            "INFO:root:status: <0 1 5 6 0>\n",
            "INFO:root:ply: player 1 plays Nimply(row=3, num_objects=4)\n",
            "INFO:root:status: <0 1 5 2 0>\n",
            "INFO:root:ply: player 0 plays Nimply(row=2, num_objects=1)\n",
            "INFO:root:status: <0 1 4 2 0>\n",
            "INFO:root:ply: player 1 plays Nimply(row=1, num_objects=1)\n",
            "INFO:root:status: <0 0 4 2 0>\n",
            "INFO:root:ply: player 0 plays Nimply(row=3, num_objects=1)\n",
            "INFO:root:status: <0 0 4 1 0>\n",
            "INFO:root:ply: player 1 plays Nimply(row=3, num_objects=1)\n",
            "INFO:root:status: <0 0 4 0 0>\n",
            "INFO:root:ply: player 0 plays Nimply(row=2, num_objects=2)\n",
            "INFO:root:status: <0 0 2 0 0>\n",
            "INFO:root:ply: player 1 plays Nimply(row=2, num_objects=1)\n",
            "INFO:root:status: <0 0 1 0 0>\n",
            "INFO:root:ply: player 0 plays Nimply(row=2, num_objects=1)\n",
            "INFO:root:status: <0 0 0 0 0>\n",
            "INFO:root:status: Player 1 won!\n"
          ]
        }
      ]
    },
    {
      "cell_type": "markdown",
      "source": [
        "## Match"
      ],
      "metadata": {
        "id": "v29DKIUjRTI_"
      }
    },
    {
      "cell_type": "code",
      "source": [
        "def match_agents():\n",
        "\n",
        "  # Game initialization\n",
        "  num_rows = 9\n",
        "  k = 4\n",
        "  nim = Nim(\n",
        "      num_rows = num_rows,\n",
        "      #k = k\n",
        "  )\n",
        "\n",
        "  print(\"===============[ Fixed rules  agent VS Evolved rules  agent ]===============\")\n",
        "  print()\n",
        "  print(f\"Initial state: {nim}\")\n",
        "\n",
        "  player = 0\n",
        "  while nim:\n",
        "    if player == 0:\n",
        "      print(\"----------\")\n",
        "      print(\"Player 0:\")\n",
        "      ply = nim_sum_agent(nim)\n",
        "      print(f\"Fixed rules agent played {ply}\")\n",
        "    else:\n",
        "      print(\"----------\")\n",
        "      print(\"Player 1:\")\n",
        "      ply = evolutionary_agent(nim)\n",
        "      print(f\"Evolved rules agent played {ply}\")\n",
        "    nim.nimming(ply)\n",
        "    print(f\"New state: {nim}\")\n",
        "    player = 1 - player\n",
        "\n",
        "  winner = 1 - player\n",
        "  print(f\"Player {winner} has won !\")"
      ],
      "metadata": {
        "id": "00TrI5sk6c9Q"
      },
      "execution_count": null,
      "outputs": []
    },
    {
      "cell_type": "code",
      "source": [
        "match_agents()"
      ],
      "metadata": {
        "colab": {
          "base_uri": "https://localhost:8080/"
        },
        "id": "3RPlhoAc9Oi5",
        "outputId": "82583a29-e563-4c61-bd9b-822fe822bf87"
      },
      "execution_count": null,
      "outputs": [
        {
          "output_type": "stream",
          "name": "stdout",
          "text": [
            "===============[ Fixed rules  agent VS Evolved rules  agent ]===============\n",
            "\n",
            "Initial state: <1 3 5 7 9 11 13 15 17>\n",
            "----------\n",
            "Player 0:\n",
            "Fixed rules agent played Nimply(row=0, num_objects=1)\n",
            "New state: <0 3 5 7 9 11 13 15 17>\n",
            "----------\n",
            "Player 1:\n",
            "Evolved rules agent played Nimply(row=8, num_objects=16)\n",
            "New state: <0 3 5 7 9 11 13 15 1>\n",
            "----------\n",
            "Player 0:\n",
            "Fixed rules agent played Nimply(row=1, num_objects=3)\n",
            "New state: <0 0 5 7 9 11 13 15 1>\n",
            "----------\n",
            "Player 1:\n",
            "Evolved rules agent played Nimply(row=3, num_objects=3)\n",
            "New state: <0 0 5 4 9 11 13 15 1>\n",
            "----------\n",
            "Player 0:\n",
            "Fixed rules agent played Nimply(row=2, num_objects=5)\n",
            "New state: <0 0 0 4 9 11 13 15 1>\n",
            "----------\n",
            "Player 1:\n",
            "Evolved rules agent played Nimply(row=3, num_objects=3)\n",
            "New state: <0 0 0 1 9 11 13 15 1>\n",
            "----------\n",
            "Player 0:\n",
            "Fixed rules agent played Nimply(row=3, num_objects=1)\n",
            "New state: <0 0 0 0 9 11 13 15 1>\n",
            "----------\n",
            "Player 1:\n",
            "Evolved rules agent played Nimply(row=8, num_objects=1)\n",
            "New state: <0 0 0 0 9 11 13 15 0>\n",
            "----------\n",
            "Player 0:\n",
            "Fixed rules agent played Nimply(row=4, num_objects=9)\n",
            "New state: <0 0 0 0 0 11 13 15 0>\n",
            "----------\n",
            "Player 1:\n",
            "Evolved rules agent played Nimply(row=5, num_objects=9)\n",
            "New state: <0 0 0 0 0 2 13 15 0>\n",
            "----------\n",
            "Player 0:\n",
            "Fixed rules agent played Nimply(row=5, num_objects=2)\n",
            "New state: <0 0 0 0 0 0 13 15 0>\n",
            "----------\n",
            "Player 1:\n",
            "Evolved rules agent played Nimply(row=7, num_objects=2)\n",
            "New state: <0 0 0 0 0 0 13 13 0>\n",
            "----------\n",
            "Player 0:\n",
            "Fixed rules agent played Nimply(row=6, num_objects=13)\n",
            "New state: <0 0 0 0 0 0 0 13 0>\n",
            "----------\n",
            "Player 1:\n",
            "Evolved rules agent played Nimply(row=7, num_objects=13)\n",
            "New state: <0 0 0 0 0 0 0 0 0>\n",
            "Player 1 has won !\n"
          ]
        }
      ]
    },
    {
      "cell_type": "markdown",
      "source": [
        "## Functions tests"
      ],
      "metadata": {
        "id": "O7nLU_uli9EW"
      }
    },
    {
      "cell_type": "markdown",
      "source": [
        "### create_random_population()"
      ],
      "metadata": {
        "id": "t6r2m05JksQk"
      }
    },
    {
      "cell_type": "code",
      "source": [
        "nim = Nim(num_rows = 5, k = 8)\n",
        "pop = create_random_population(nim = nim, num_individuals = 10)\n",
        "\n",
        "print(len(pop))\n",
        "print(pop[0])\n",
        "print(pop[1])\n",
        "print(pop[2])\n",
        "print(pop[3])\n",
        "print(pop[4])\n",
        "print(pop[5])\n",
        "print(pop[6])\n",
        "print(pop[7])\n",
        "print(pop[8])\n",
        "print(pop[9])"
      ],
      "metadata": {
        "colab": {
          "base_uri": "https://localhost:8080/"
        },
        "id": "AwejxD_okwKr",
        "outputId": "134e8ae9-09a7-4054-ef83-efdb832391ca"
      },
      "execution_count": null,
      "outputs": [
        {
          "output_type": "stream",
          "name": "stdout",
          "text": [
            "10\n",
            "Nimply(row=1, num_objects=3)\n",
            "Nimply(row=3, num_objects=7)\n",
            "Nimply(row=3, num_objects=3)\n",
            "Nimply(row=2, num_objects=4)\n",
            "Nimply(row=3, num_objects=1)\n",
            "Nimply(row=4, num_objects=2)\n",
            "Nimply(row=2, num_objects=3)\n",
            "Nimply(row=1, num_objects=1)\n",
            "Nimply(row=4, num_objects=1)\n",
            "Nimply(row=1, num_objects=3)\n"
          ]
        }
      ]
    },
    {
      "cell_type": "markdown",
      "source": [
        "### nim_addition_zero()"
      ],
      "metadata": {
        "id": "Yy-I3RyGat3R"
      }
    },
    {
      "cell_type": "code",
      "source": [
        "nim = Nim(5,3)\n",
        "result = nim_addition_zero(nim)\n",
        "\n",
        "print(result)"
      ],
      "metadata": {
        "colab": {
          "base_uri": "https://localhost:8080/"
        },
        "id": "mJhAsKMeawbQ",
        "outputId": "d346fa02-ac7e-4530-cc66-df59a16679de"
      },
      "execution_count": null,
      "outputs": [
        {
          "output_type": "stream",
          "name": "stdout",
          "text": [
            "0\n"
          ]
        }
      ]
    },
    {
      "cell_type": "markdown",
      "source": [
        "### evaluate_individual()"
      ],
      "metadata": {
        "id": "5R6o6ONSbBzB"
      }
    },
    {
      "cell_type": "code",
      "source": [
        "nim = Nim(5,3)\n",
        "ply = Nimply(2,2)\n",
        "print(nim)\n",
        "print(ply)\n",
        "result = evaluate_individual(nim,ply)\n",
        "print(result)"
      ],
      "metadata": {
        "colab": {
          "base_uri": "https://localhost:8080/"
        },
        "id": "l7j5vgRtbFh8",
        "outputId": "8c919166-67b9-453a-97b2-86e5abec3634"
      },
      "execution_count": null,
      "outputs": [
        {
          "output_type": "stream",
          "name": "stdout",
          "text": [
            "<1 3 5 7 9>\n",
            "Nimply(row=2, num_objects=2)\n",
            "0\n"
          ]
        }
      ]
    },
    {
      "cell_type": "markdown",
      "source": [
        "### sort_population()"
      ],
      "metadata": {
        "id": "JyhowOCAbbLv"
      }
    },
    {
      "cell_type": "code",
      "source": [
        "nim = Nim(5,9)\n",
        "ply1 = Nimply(2,2)\n",
        "ply2 = Nimply(4,2)\n",
        "ply3 = Nimply(4,9)\n",
        "plys = [ply1,ply2,ply3]\n",
        "result = sort_population(nim,plys)\n",
        "print(result)"
      ],
      "metadata": {
        "colab": {
          "base_uri": "https://localhost:8080/"
        },
        "id": "1Ch-wCtVbe6l",
        "outputId": "7f4f0bd5-77dc-456b-c345-cd6c54d1f5d2"
      },
      "execution_count": null,
      "outputs": [
        {
          "output_type": "stream",
          "name": "stdout",
          "text": [
            "[Nimply(row=4, num_objects=9), Nimply(row=2, num_objects=2), Nimply(row=4, num_objects=2)]\n"
          ]
        }
      ]
    },
    {
      "cell_type": "markdown",
      "source": [
        "### get_elites()"
      ],
      "metadata": {
        "id": "nl4JmBags3Ux"
      }
    },
    {
      "cell_type": "code",
      "source": [
        "nim = Nim(num_rows = 5, k = 8)\n",
        "p1 = Nimply(0,1)\n",
        "p2 = Nimply(2,3)\n",
        "p3 = Nimply(4,5)\n",
        "p4 = Nimply(1,2)\n",
        "current_pop = [p1,p2,p3,p4]\n",
        "elites = get_elites(current_pop)\n",
        "\n",
        "print(len(elites))\n",
        "print(elites[0])\n",
        "print(elites[1])"
      ],
      "metadata": {
        "colab": {
          "base_uri": "https://localhost:8080/"
        },
        "id": "p1EVwIWls5Nz",
        "outputId": "cb569661-6376-41e8-d8a5-4693d01c2293"
      },
      "execution_count": null,
      "outputs": [
        {
          "output_type": "stream",
          "name": "stdout",
          "text": [
            "2\n",
            "Nimply(row=0, num_objects=1)\n",
            "Nimply(row=2, num_objects=3)\n"
          ]
        }
      ]
    },
    {
      "cell_type": "markdown",
      "source": [
        "### is_valid_play()"
      ],
      "metadata": {
        "id": "YosMfajFi_yZ"
      }
    },
    {
      "cell_type": "code",
      "source": [
        "# is_valid_play tests\n",
        "\n",
        "# OK\n",
        "# ply.row < 0\n",
        "ply = Nimply(1,2)\n",
        "nim = Nim(num_rows = 3, k = 4)\n",
        "print(is_valid_play(nim, ply))\n",
        "\n",
        "# ply.row < 0\n",
        "ply = Nimply(-1,2)\n",
        "nim = Nim(num_rows = 3, k = 4)\n",
        "print(is_valid_play(nim, ply))\n",
        "\n",
        "# ply.row > len(nim.row)\n",
        "ply = Nimply(3,2)\n",
        "nim = Nim(num_rows = 3, k = 4)\n",
        "print(is_valid_play(nim, ply))\n",
        "\n",
        "# ply.num_objects < 1\n",
        "ply = Nimply(1,0)\n",
        "nim = Nim(num_rows = 3, k = 4)\n",
        "print(is_valid_play(nim, ply))\n",
        "\n",
        "# ply.num_objects > nim._rows[ply.row]\n",
        "ply = Nimply(0,2)\n",
        "nim = Nim(num_rows = 3, k = 4)\n",
        "print(is_valid_play(nim, ply))\n",
        "\n",
        "# ply.num_objects > nim._k\n",
        "ply = Nimply(1,5)\n",
        "nim = Nim(num_rows = 3, k = 4)\n",
        "print(is_valid_play(nim, ply))"
      ],
      "metadata": {
        "colab": {
          "base_uri": "https://localhost:8080/"
        },
        "id": "trIDOjf1i8hf",
        "outputId": "b00495c4-258f-4f05-ebc2-877b99ad9bca"
      },
      "execution_count": null,
      "outputs": [
        {
          "output_type": "stream",
          "name": "stdout",
          "text": [
            "True\n",
            "False\n",
            "False\n",
            "False\n",
            "False\n",
            "False\n"
          ]
        }
      ]
    },
    {
      "cell_type": "markdown",
      "source": [
        "### cross()"
      ],
      "metadata": {
        "id": "EhluSTh0oiWh"
      }
    },
    {
      "cell_type": "code",
      "source": [
        "nim = Nim(num_rows = 5, k = 8)\n",
        "p1 = Nimply(0,1)\n",
        "p2 = Nimply(2,3)\n",
        "p3 = Nimply(4,5)\n",
        "p4 = Nimply(1,2)\n",
        "p5 = Nimply(3,4)\n",
        "current_pop = [p1,p2,p3,p4,p5]\n",
        "elite_pop = [p1,p2,p3]\n",
        "crossed_pop = cross(nim = nim, current_population = current_pop, elite_population = elite_pop)\n",
        "\n",
        "print(len(crossed_pop))\n",
        "print(crossed_pop[0])"
      ],
      "metadata": {
        "colab": {
          "base_uri": "https://localhost:8080/"
        },
        "id": "WQIMjRmaokZX",
        "outputId": "3f8fdcae-dcbc-4b2b-cf11-2a7a9e9bcf36"
      },
      "execution_count": null,
      "outputs": [
        {
          "output_type": "stream",
          "name": "stdout",
          "text": [
            "1\n",
            "Nimply(row=2, num_objects=4)\n"
          ]
        }
      ]
    },
    {
      "cell_type": "markdown",
      "source": [
        "### mutate()"
      ],
      "metadata": {
        "id": "xTDh4DoypyOu"
      }
    },
    {
      "cell_type": "code",
      "source": [
        "nim = Nim(num_rows = 5, k = 8)\n",
        "p1 = Nimply(0,1)\n",
        "p2 = Nimply(0,3)\n",
        "p3 = Nimply(1,5)\n",
        "p4 = Nimply(1,2)\n",
        "p5 = Nimply(1,4)\n",
        "current_pop = [p1,p2,p3,p4,p5]\n",
        "mutated_pop = mutate(nim = nim, current_population = current_pop, mutation_ratio = 0.6)\n",
        "\n",
        "print(len(mutated_pop))\n",
        "print(mutated_pop[0])\n",
        "print(mutated_pop[1])\n",
        "print(mutated_pop[2])"
      ],
      "metadata": {
        "colab": {
          "base_uri": "https://localhost:8080/"
        },
        "id": "_O-EMAEsp0ji",
        "outputId": "227cfb35-6d55-4f59-9bb0-867444a18f51"
      },
      "execution_count": null,
      "outputs": [
        {
          "output_type": "stream",
          "name": "stdout",
          "text": [
            "3\n",
            "Nimply(row=3, num_objects=6)\n",
            "Nimply(row=0, num_objects=1)\n",
            "Nimply(row=4, num_objects=3)\n"
          ]
        }
      ]
    }
  ]
}