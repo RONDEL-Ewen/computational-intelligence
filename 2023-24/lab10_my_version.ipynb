{
  "nbformat": 4,
  "nbformat_minor": 0,
  "metadata": {
    "colab": {
      "provenance": []
    },
    "kernelspec": {
      "name": "python3",
      "display_name": "Python 3"
    },
    "language_info": {
      "name": "python"
    },
    "widgets": {
      "application/vnd.jupyter.widget-state+json": {
        "3233d36d05304a61a769da1c873f78b6": {
          "model_module": "@jupyter-widgets/controls",
          "model_name": "HBoxModel",
          "model_module_version": "1.5.0",
          "state": {
            "_dom_classes": [],
            "_model_module": "@jupyter-widgets/controls",
            "_model_module_version": "1.5.0",
            "_model_name": "HBoxModel",
            "_view_count": null,
            "_view_module": "@jupyter-widgets/controls",
            "_view_module_version": "1.5.0",
            "_view_name": "HBoxView",
            "box_style": "",
            "children": [
              "IPY_MODEL_3210d3ed502549c3ab748badcc9e9c36",
              "IPY_MODEL_78f619f96b3941c296f7d2932eb770ac",
              "IPY_MODEL_e137cc8003cb4edc836bddf3c3bf7f1d"
            ],
            "layout": "IPY_MODEL_9509047fbc634b9585bfd47e99a1a7b4"
          }
        },
        "3210d3ed502549c3ab748badcc9e9c36": {
          "model_module": "@jupyter-widgets/controls",
          "model_name": "HTMLModel",
          "model_module_version": "1.5.0",
          "state": {
            "_dom_classes": [],
            "_model_module": "@jupyter-widgets/controls",
            "_model_module_version": "1.5.0",
            "_model_name": "HTMLModel",
            "_view_count": null,
            "_view_module": "@jupyter-widgets/controls",
            "_view_module_version": "1.5.0",
            "_view_name": "HTMLView",
            "description": "",
            "description_tooltip": null,
            "layout": "IPY_MODEL_9bfd09e76a7f4c08b5ca6ed7816124a9",
            "placeholder": "​",
            "style": "IPY_MODEL_1a15f4e6b8704093985a121d658944a4",
            "value": "100%"
          }
        },
        "78f619f96b3941c296f7d2932eb770ac": {
          "model_module": "@jupyter-widgets/controls",
          "model_name": "FloatProgressModel",
          "model_module_version": "1.5.0",
          "state": {
            "_dom_classes": [],
            "_model_module": "@jupyter-widgets/controls",
            "_model_module_version": "1.5.0",
            "_model_name": "FloatProgressModel",
            "_view_count": null,
            "_view_module": "@jupyter-widgets/controls",
            "_view_module_version": "1.5.0",
            "_view_name": "ProgressView",
            "bar_style": "success",
            "description": "",
            "description_tooltip": null,
            "layout": "IPY_MODEL_6f044a76850243babd682b96cd26623a",
            "max": 500000,
            "min": 0,
            "orientation": "horizontal",
            "style": "IPY_MODEL_5604e308b918444f931d979459e1cc71",
            "value": 500000
          }
        },
        "e137cc8003cb4edc836bddf3c3bf7f1d": {
          "model_module": "@jupyter-widgets/controls",
          "model_name": "HTMLModel",
          "model_module_version": "1.5.0",
          "state": {
            "_dom_classes": [],
            "_model_module": "@jupyter-widgets/controls",
            "_model_module_version": "1.5.0",
            "_model_name": "HTMLModel",
            "_view_count": null,
            "_view_module": "@jupyter-widgets/controls",
            "_view_module_version": "1.5.0",
            "_view_name": "HTMLView",
            "description": "",
            "description_tooltip": null,
            "layout": "IPY_MODEL_98e9f9bb02474ac09cb4ca3ec476ddd5",
            "placeholder": "​",
            "style": "IPY_MODEL_68a0b88abdb74b329c13005579a96324",
            "value": " 500000/500000 [01:52&lt;00:00, 3073.15it/s]"
          }
        },
        "9509047fbc634b9585bfd47e99a1a7b4": {
          "model_module": "@jupyter-widgets/base",
          "model_name": "LayoutModel",
          "model_module_version": "1.2.0",
          "state": {
            "_model_module": "@jupyter-widgets/base",
            "_model_module_version": "1.2.0",
            "_model_name": "LayoutModel",
            "_view_count": null,
            "_view_module": "@jupyter-widgets/base",
            "_view_module_version": "1.2.0",
            "_view_name": "LayoutView",
            "align_content": null,
            "align_items": null,
            "align_self": null,
            "border": null,
            "bottom": null,
            "display": null,
            "flex": null,
            "flex_flow": null,
            "grid_area": null,
            "grid_auto_columns": null,
            "grid_auto_flow": null,
            "grid_auto_rows": null,
            "grid_column": null,
            "grid_gap": null,
            "grid_row": null,
            "grid_template_areas": null,
            "grid_template_columns": null,
            "grid_template_rows": null,
            "height": null,
            "justify_content": null,
            "justify_items": null,
            "left": null,
            "margin": null,
            "max_height": null,
            "max_width": null,
            "min_height": null,
            "min_width": null,
            "object_fit": null,
            "object_position": null,
            "order": null,
            "overflow": null,
            "overflow_x": null,
            "overflow_y": null,
            "padding": null,
            "right": null,
            "top": null,
            "visibility": null,
            "width": null
          }
        },
        "9bfd09e76a7f4c08b5ca6ed7816124a9": {
          "model_module": "@jupyter-widgets/base",
          "model_name": "LayoutModel",
          "model_module_version": "1.2.0",
          "state": {
            "_model_module": "@jupyter-widgets/base",
            "_model_module_version": "1.2.0",
            "_model_name": "LayoutModel",
            "_view_count": null,
            "_view_module": "@jupyter-widgets/base",
            "_view_module_version": "1.2.0",
            "_view_name": "LayoutView",
            "align_content": null,
            "align_items": null,
            "align_self": null,
            "border": null,
            "bottom": null,
            "display": null,
            "flex": null,
            "flex_flow": null,
            "grid_area": null,
            "grid_auto_columns": null,
            "grid_auto_flow": null,
            "grid_auto_rows": null,
            "grid_column": null,
            "grid_gap": null,
            "grid_row": null,
            "grid_template_areas": null,
            "grid_template_columns": null,
            "grid_template_rows": null,
            "height": null,
            "justify_content": null,
            "justify_items": null,
            "left": null,
            "margin": null,
            "max_height": null,
            "max_width": null,
            "min_height": null,
            "min_width": null,
            "object_fit": null,
            "object_position": null,
            "order": null,
            "overflow": null,
            "overflow_x": null,
            "overflow_y": null,
            "padding": null,
            "right": null,
            "top": null,
            "visibility": null,
            "width": null
          }
        },
        "1a15f4e6b8704093985a121d658944a4": {
          "model_module": "@jupyter-widgets/controls",
          "model_name": "DescriptionStyleModel",
          "model_module_version": "1.5.0",
          "state": {
            "_model_module": "@jupyter-widgets/controls",
            "_model_module_version": "1.5.0",
            "_model_name": "DescriptionStyleModel",
            "_view_count": null,
            "_view_module": "@jupyter-widgets/base",
            "_view_module_version": "1.2.0",
            "_view_name": "StyleView",
            "description_width": ""
          }
        },
        "6f044a76850243babd682b96cd26623a": {
          "model_module": "@jupyter-widgets/base",
          "model_name": "LayoutModel",
          "model_module_version": "1.2.0",
          "state": {
            "_model_module": "@jupyter-widgets/base",
            "_model_module_version": "1.2.0",
            "_model_name": "LayoutModel",
            "_view_count": null,
            "_view_module": "@jupyter-widgets/base",
            "_view_module_version": "1.2.0",
            "_view_name": "LayoutView",
            "align_content": null,
            "align_items": null,
            "align_self": null,
            "border": null,
            "bottom": null,
            "display": null,
            "flex": null,
            "flex_flow": null,
            "grid_area": null,
            "grid_auto_columns": null,
            "grid_auto_flow": null,
            "grid_auto_rows": null,
            "grid_column": null,
            "grid_gap": null,
            "grid_row": null,
            "grid_template_areas": null,
            "grid_template_columns": null,
            "grid_template_rows": null,
            "height": null,
            "justify_content": null,
            "justify_items": null,
            "left": null,
            "margin": null,
            "max_height": null,
            "max_width": null,
            "min_height": null,
            "min_width": null,
            "object_fit": null,
            "object_position": null,
            "order": null,
            "overflow": null,
            "overflow_x": null,
            "overflow_y": null,
            "padding": null,
            "right": null,
            "top": null,
            "visibility": null,
            "width": null
          }
        },
        "5604e308b918444f931d979459e1cc71": {
          "model_module": "@jupyter-widgets/controls",
          "model_name": "ProgressStyleModel",
          "model_module_version": "1.5.0",
          "state": {
            "_model_module": "@jupyter-widgets/controls",
            "_model_module_version": "1.5.0",
            "_model_name": "ProgressStyleModel",
            "_view_count": null,
            "_view_module": "@jupyter-widgets/base",
            "_view_module_version": "1.2.0",
            "_view_name": "StyleView",
            "bar_color": null,
            "description_width": ""
          }
        },
        "98e9f9bb02474ac09cb4ca3ec476ddd5": {
          "model_module": "@jupyter-widgets/base",
          "model_name": "LayoutModel",
          "model_module_version": "1.2.0",
          "state": {
            "_model_module": "@jupyter-widgets/base",
            "_model_module_version": "1.2.0",
            "_model_name": "LayoutModel",
            "_view_count": null,
            "_view_module": "@jupyter-widgets/base",
            "_view_module_version": "1.2.0",
            "_view_name": "LayoutView",
            "align_content": null,
            "align_items": null,
            "align_self": null,
            "border": null,
            "bottom": null,
            "display": null,
            "flex": null,
            "flex_flow": null,
            "grid_area": null,
            "grid_auto_columns": null,
            "grid_auto_flow": null,
            "grid_auto_rows": null,
            "grid_column": null,
            "grid_gap": null,
            "grid_row": null,
            "grid_template_areas": null,
            "grid_template_columns": null,
            "grid_template_rows": null,
            "height": null,
            "justify_content": null,
            "justify_items": null,
            "left": null,
            "margin": null,
            "max_height": null,
            "max_width": null,
            "min_height": null,
            "min_width": null,
            "object_fit": null,
            "object_position": null,
            "order": null,
            "overflow": null,
            "overflow_x": null,
            "overflow_y": null,
            "padding": null,
            "right": null,
            "top": null,
            "visibility": null,
            "width": null
          }
        },
        "68a0b88abdb74b329c13005579a96324": {
          "model_module": "@jupyter-widgets/controls",
          "model_name": "DescriptionStyleModel",
          "model_module_version": "1.5.0",
          "state": {
            "_model_module": "@jupyter-widgets/controls",
            "_model_module_version": "1.5.0",
            "_model_name": "DescriptionStyleModel",
            "_view_count": null,
            "_view_module": "@jupyter-widgets/base",
            "_view_module_version": "1.2.0",
            "_view_name": "StyleView",
            "description_width": ""
          }
        }
      }
    }
  },
  "cells": [
    {
      "cell_type": "code",
      "execution_count": 1,
      "metadata": {
        "id": "bw6IUrzlJina"
      },
      "outputs": [],
      "source": [
        "from itertools import combinations\n",
        "from collections import namedtuple, defaultdict\n",
        "from random import choice\n",
        "from copy import deepcopy\n",
        "\n",
        "from tqdm.auto import tqdm\n",
        "import numpy as np"
      ]
    },
    {
      "cell_type": "code",
      "source": [
        "State = namedtuple('State', ['x', 'o'])"
      ],
      "metadata": {
        "id": "R0oMwqFAJtmp"
      },
      "execution_count": 2,
      "outputs": []
    },
    {
      "cell_type": "code",
      "source": [
        "MAGIC = [2, 7, 6, 9, 5, 1, 4, 3, 8]"
      ],
      "metadata": {
        "id": "Ar-TreSRJtvC"
      },
      "execution_count": 3,
      "outputs": []
    },
    {
      "cell_type": "code",
      "source": [
        "def print_board(pos):\n",
        "    \"\"\"Nicely prints the board\"\"\"\n",
        "    for r in range(3):\n",
        "        for c in range(3):\n",
        "            i = r * 3 + c\n",
        "            if MAGIC[i] in pos.x:\n",
        "                print('X', end='')\n",
        "            elif MAGIC[i] in pos.o:\n",
        "                print('O', end='')\n",
        "            else:\n",
        "                print('.', end='')\n",
        "        print()\n",
        "    print()"
      ],
      "metadata": {
        "id": "iM0IeypzJtyV"
      },
      "execution_count": 4,
      "outputs": []
    },
    {
      "cell_type": "code",
      "source": [
        "def win(elements):\n",
        "    \"\"\"Checks is elements is winning\"\"\"\n",
        "    return any(sum(c) == 15 for c in combinations(elements, 3))\n",
        "\n",
        "def state_value(pos: State):\n",
        "    \"\"\"Evaluate state: +1 first player wins\"\"\"\n",
        "    if win(pos.x):\n",
        "        return 1\n",
        "    elif win(pos.o):\n",
        "        return -1\n",
        "    else:\n",
        "        return 0"
      ],
      "metadata": {
        "id": "vHQqFLDxJt1G"
      },
      "execution_count": 5,
      "outputs": []
    },
    {
      "cell_type": "code",
      "source": [
        "def random_game():\n",
        "    trajectory = list()\n",
        "    state = State(set(), set())\n",
        "    available = set(range(1, 9+1))\n",
        "    while available:\n",
        "        x = choice(list(available))\n",
        "        state.x.add(x)\n",
        "        trajectory.append(deepcopy(state))\n",
        "        available.remove(x)\n",
        "        if win(state.x) or not available:\n",
        "            break\n",
        "\n",
        "        o = choice(list(available))\n",
        "        state.o.add(o)\n",
        "        trajectory.append(deepcopy(state))\n",
        "        available.remove(o)\n",
        "        if win(state.o):\n",
        "            break\n",
        "    return trajectory"
      ],
      "metadata": {
        "id": "UoHkb8q3Jt37"
      },
      "execution_count": 6,
      "outputs": []
    },
    {
      "cell_type": "code",
      "source": [
        "value_dictionary = defaultdict(float)\n",
        "hit_state = defaultdict(int)\n",
        "epsilon = 0.001\n",
        "\n",
        "for steps in tqdm(range(500_000)):\n",
        "    trajectory = random_game()\n",
        "    final_reward = state_value(trajectory[-1])\n",
        "    for state in trajectory:\n",
        "        hashable_state = (frozenset(state.x), frozenset(state.o))\n",
        "        hit_state[hashable_state] += 1\n",
        "        value_dictionary[hashable_state] = value_dictionary[\n",
        "            hashable_state\n",
        "        ] + epsilon * (final_reward - value_dictionary[hashable_state])"
      ],
      "metadata": {
        "colab": {
          "base_uri": "https://localhost:8080/",
          "height": 49,
          "referenced_widgets": [
            "3233d36d05304a61a769da1c873f78b6",
            "3210d3ed502549c3ab748badcc9e9c36",
            "78f619f96b3941c296f7d2932eb770ac",
            "e137cc8003cb4edc836bddf3c3bf7f1d",
            "9509047fbc634b9585bfd47e99a1a7b4",
            "9bfd09e76a7f4c08b5ca6ed7816124a9",
            "1a15f4e6b8704093985a121d658944a4",
            "6f044a76850243babd682b96cd26623a",
            "5604e308b918444f931d979459e1cc71",
            "98e9f9bb02474ac09cb4ca3ec476ddd5",
            "68a0b88abdb74b329c13005579a96324"
          ]
        },
        "id": "gFoVMdr1Jt6w",
        "outputId": "dbdae852-cebc-49b9-d291-8b7292002239"
      },
      "execution_count": 7,
      "outputs": [
        {
          "output_type": "display_data",
          "data": {
            "text/plain": [
              "  0%|          | 0/500000 [00:00<?, ?it/s]"
            ],
            "application/vnd.jupyter.widget-view+json": {
              "version_major": 2,
              "version_minor": 0,
              "model_id": "3233d36d05304a61a769da1c873f78b6"
            }
          },
          "metadata": {}
        }
      ]
    },
    {
      "cell_type": "code",
      "source": [
        "sorted(value_dictionary.items(), key=lambda e: e[1], reverse=True)[:10]"
      ],
      "metadata": {
        "colab": {
          "base_uri": "https://localhost:8080/"
        },
        "id": "Iq-HCOzAJt9m",
        "outputId": "86de5874-e5e6-4d59-b617-88775f5159c9"
      },
      "execution_count": 8,
      "outputs": [
        {
          "output_type": "execute_result",
          "data": {
            "text/plain": [
              "[((frozenset({4, 5, 6, 8, 9}), frozenset({1, 2, 3, 7})), 0.9180176118921533),\n",
              " ((frozenset({4, 5, 6, 7, 8}), frozenset({1, 2, 3, 9})), 0.913639494211917),\n",
              " ((frozenset({2, 3, 4, 5, 6}), frozenset({1, 7, 8, 9})), 0.913639494211917),\n",
              " ((frozenset({1, 2, 3, 4, 9}), frozenset({5, 6, 7, 8})), 0.913206393246716),\n",
              " ((frozenset({1, 4, 5, 6, 7}), frozenset({2, 3, 8, 9})), 0.9128583491447205),\n",
              " ((frozenset({2, 3, 6, 7, 9}), frozenset({1, 4, 5, 8})), 0.9114521600198158),\n",
              " ((frozenset({2, 5, 6, 8, 9}), frozenset({1, 3, 4, 7})), 0.9107405789227033),\n",
              " ((frozenset({1, 2, 3, 5, 9}), frozenset({4, 6, 7, 8})), 0.9102929397956615),\n",
              " ((frozenset({1, 2, 4, 6, 7}), frozenset({3, 5, 8, 9})), 0.9099332126869561),\n",
              " ((frozenset({3, 4, 5, 6, 9}), frozenset({1, 2, 7, 8})), 0.9098430557426989)]"
            ]
          },
          "metadata": {},
          "execution_count": 8
        }
      ]
    },
    {
      "cell_type": "code",
      "source": [
        "len(hit_state)"
      ],
      "metadata": {
        "colab": {
          "base_uri": "https://localhost:8080/"
        },
        "id": "oK4-MLGlJuAf",
        "outputId": "084387ea-528c-42ca-9d5b-0ea65237db78"
      },
      "execution_count": 9,
      "outputs": [
        {
          "output_type": "execute_result",
          "data": {
            "text/plain": [
              "5477"
            ]
          },
          "metadata": {},
          "execution_count": 9
        }
      ]
    },
    {
      "cell_type": "code",
      "source": [
        "def best_move(state, player, value_dict):\n",
        "    \"\"\"\n",
        "    Choose the best move for the given player based on reinforcement learning.\n",
        "\n",
        "    :param state: Actual state of the game.\n",
        "    :param player: Actual player ('x' or 'o').\n",
        "    :param value_dict: Dictionary of known states values.\n",
        "    :return: Best move for the given player.\n",
        "    \"\"\"\n",
        "\n",
        "    # Initialize the best value. For X, search the maximum, for O, search the minimum.\n",
        "    best_val = -float('inf') if player == 'x' else float('inf')\n",
        "    best_move = None\n",
        "\n",
        "    # Go through all cells.\n",
        "    for move in range(1, 10):\n",
        "\n",
        "        # Checks if the cell is free.\n",
        "        if move not in state.x and move not in state.o:\n",
        "\n",
        "            # Creates a copy of the state to try the move.\n",
        "            new_state = deepcopy(state)\n",
        "\n",
        "            # If the actual player is X.\n",
        "            if player == 'x':\n",
        "\n",
        "                # Add the move to the X set.\n",
        "                new_state.x.add(move)\n",
        "\n",
        "                # Get the value of the new state from the dictionary, or 0 if not found.\n",
        "                val = value_dict.get((frozenset(new_state.x), frozenset(new_state.o)), 0)\n",
        "\n",
        "                # If the value is better than everything found up to there, update the best move.\n",
        "                if val > best_val:\n",
        "                    best_val = val\n",
        "                    best_move = move\n",
        "\n",
        "            # If the actual player is O, same process but with minimum value.\n",
        "            else:\n",
        "\n",
        "                new_state.o.add(move)\n",
        "                val = value_dict.get((frozenset(new_state.x), frozenset(new_state.o)), 0)\n",
        "                if val < best_val:\n",
        "                    best_val = val\n",
        "                    best_move = move\n",
        "\n",
        "    # Return the best move found.\n",
        "    return best_move"
      ],
      "metadata": {
        "id": "LkmJTaHELO5i"
      },
      "execution_count": 18,
      "outputs": []
    },
    {
      "cell_type": "code",
      "source": [
        "def rl_game(value_dict, player='x'):\n",
        "    \"\"\"Play a tic-tac-toe game where the given player uses reinforcement learning.\"\"\"\n",
        "\n",
        "    state = State(set(), set())\n",
        "    available = set(range(1, 10))\n",
        "\n",
        "    while available:\n",
        "\n",
        "        if player == 'x':\n",
        "\n",
        "            x_move = best_move(state, 'x', value_dict)\n",
        "            state.x.add(x_move)\n",
        "            available.remove(x_move)\n",
        "            if win(state.x) or not available:\n",
        "                break\n",
        "\n",
        "            player = 'o'\n",
        "\n",
        "        else:\n",
        "\n",
        "            o_move = best_move(state, 'o', value_dict)\n",
        "            state.o.add(o_move)\n",
        "            available.remove(o_move)\n",
        "            if win(state.o):\n",
        "                break\n",
        "\n",
        "            player = 'x'\n",
        "\n",
        "    return state"
      ],
      "metadata": {
        "id": "IumhHBGJLPAF"
      },
      "execution_count": 19,
      "outputs": []
    },
    {
      "cell_type": "code",
      "source": [
        "value_dictionary = defaultdict(float)\n",
        "\n",
        "nb_games = 10000\n",
        "\n",
        "# Initialize the victories counter.\n",
        "victoires_rl = 0\n",
        "\n",
        "# Play n games.\n",
        "for _ in range(nb_games):\n",
        "\n",
        "    # Play a game with one player using reinforcement learning (here X).\n",
        "    final_state = rl_game(value_dictionary, player='x')\n",
        "\n",
        "    # Check if player X won.\n",
        "    if win(final_state.x):\n",
        "        victoires_rl += 1\n",
        "\n",
        "# Print the number of victories for the reinforcement learning player.\n",
        "print(f\"The player using reinforcement learning has won {victoires_rl} times over {nb_games} games.\")"
      ],
      "metadata": {
        "colab": {
          "base_uri": "https://localhost:8080/"
        },
        "id": "n09q15NkLd-f",
        "outputId": "eb1b5d2a-7446-4857-a660-9eb89a6856bc"
      },
      "execution_count": 20,
      "outputs": [
        {
          "output_type": "stream",
          "name": "stdout",
          "text": [
            "The player using reinforcement learning has won 10000 times over 10000 games.\n"
          ]
        }
      ]
    }
  ]
}