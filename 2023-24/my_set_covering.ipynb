{
  "nbformat": 4,
  "nbformat_minor": 0,
  "metadata": {
    "colab": {
      "provenance": []
    },
    "kernelspec": {
      "name": "python3",
      "display_name": "Python 3"
    },
    "language_info": {
      "name": "python"
    }
  },
  "cells": [
    {
      "cell_type": "markdown",
      "source": [
        "### Imports"
      ],
      "metadata": {
        "id": "ezqbbnhugUME"
      }
    },
    {
      "cell_type": "code",
      "source": [
        "from collections import namedtuple\n",
        "from queue import PriorityQueue\n",
        "from functools import reduce\n",
        "from random import random\n",
        "\n",
        "import numpy as np\n",
        "import math"
      ],
      "metadata": {
        "id": "ivildRP9gYqt"
      },
      "execution_count": 28,
      "outputs": []
    },
    {
      "cell_type": "markdown",
      "source": [
        "### Constants"
      ],
      "metadata": {
        "id": "rTO-GH4Ggb7R"
      }
    },
    {
      "cell_type": "code",
      "source": [
        "PROBLEM_SIZE = 500\n",
        "NUM_SETS = 1000\n",
        "PROBABILITY = 0.3\n",
        "\n",
        "SETS = tuple(\n",
        "    np.array([random() < PROBABILITY for _ in range(PROBLEM_SIZE)])\n",
        "    for _ in range(NUM_SETS)\n",
        ")\n",
        "\n",
        "State = namedtuple('State', ['taken', 'not_taken'])"
      ],
      "metadata": {
        "id": "sEGapb9egdZE"
      },
      "execution_count": 29,
      "outputs": []
    },
    {
      "cell_type": "markdown",
      "source": [
        "### Functions"
      ],
      "metadata": {
        "id": "gHT7ut5qgfvy"
      }
    },
    {
      "cell_type": "code",
      "source": [
        "# Goal Check Function\n",
        "\n",
        "def goal_check(state):\n",
        "    return np.all(reduce(\n",
        "        np.logical_or,\n",
        "        [SETS[i] for i in state.taken],\n",
        "        np.array([False for _ in range(PROBLEM_SIZE)]),\n",
        "    ))\n",
        "\n",
        "assert goal_check(\n",
        "    State(set(range(NUM_SETS)), set())\n",
        "), \"Problem not solvable\""
      ],
      "metadata": {
        "id": "6HjqRRvSghSM"
      },
      "execution_count": 30,
      "outputs": []
    },
    {
      "cell_type": "code",
      "source": [
        "# Cost Function\n",
        "\n",
        "def g(state):\n",
        "  return len(state.taken)"
      ],
      "metadata": {
        "id": "kP2t2uDfgliD"
      },
      "execution_count": 31,
      "outputs": []
    },
    {
      "cell_type": "code",
      "source": [
        "# Heuristic Function\n",
        "\n",
        "def h(state):\n",
        "  return PROBLEM_SIZE - sum(\n",
        "    reduce(\n",
        "      np.logical_or,\n",
        "      [SETS[i] for i in state.taken],\n",
        "      np.array([False for _ in range(PROBLEM_SIZE)]),\n",
        "    )\n",
        "  )"
      ],
      "metadata": {
        "id": "KtqqCnzxn3tP"
      },
      "execution_count": 32,
      "outputs": []
    },
    {
      "cell_type": "code",
      "source": [
        "def h2(state):\n",
        "  uncovered = np.array([False for _ in range(PROBLEM_SIZE)])\n",
        "\n",
        "  for i in state.taken:\n",
        "    uncovered |= SETS[i]\n",
        "\n",
        "  num_sets_needed = sum(~uncovered)\n",
        "  return num_sets_needed"
      ],
      "metadata": {
        "id": "WAmHzE-_tUS1"
      },
      "execution_count": 34,
      "outputs": []
    },
    {
      "cell_type": "code",
      "source": [
        "def h3(state):\n",
        "    uncovered = np.array([False for _ in range(PROBLEM_SIZE)])\n",
        "\n",
        "    for i in state.taken:\n",
        "        uncovered |= SETS[i]\n",
        "\n",
        "    best_set_to_add = -1\n",
        "    max_coverage = -1\n",
        "\n",
        "    for i in state.not_taken:\n",
        "        # Calculate the number of uncovered elements this set would cover\n",
        "        set_coverage = sum(SETS[i] & ~uncovered)\n",
        "\n",
        "        if set_coverage > max_coverage:\n",
        "            max_coverage = set_coverage\n",
        "            best_set_to_add = i\n",
        "\n",
        "    return max_coverage"
      ],
      "metadata": {
        "id": "atTdNmq4G7M8"
      },
      "execution_count": 38,
      "outputs": []
    },
    {
      "cell_type": "code",
      "source": [
        "# Sum Function\n",
        "\n",
        "def f(state):\n",
        "  return g(state) + h3(state)"
      ],
      "metadata": {
        "id": "zdkzk63bglzs"
      },
      "execution_count": 39,
      "outputs": []
    },
    {
      "cell_type": "markdown",
      "source": [
        "### Execution"
      ],
      "metadata": {
        "id": "C8CiKB_Ugqp2"
      }
    },
    {
      "cell_type": "code",
      "source": [
        "frontier = PriorityQueue()\n",
        "state = State(set(), set(range(NUM_SETS)))\n",
        "frontier.put((f(state), state))\n",
        "\n",
        "counter = 0\n",
        "_, current_state = frontier.get()\n",
        "while not goal_check(current_state):\n",
        "    counter += 1\n",
        "    print(counter)\n",
        "    for action in current_state[1]:\n",
        "        new_state = State(\n",
        "            current_state.taken ^ {action},\n",
        "            current_state.not_taken ^ {action},\n",
        "        )\n",
        "        frontier.put((f(new_state), new_state))\n",
        "    _, current_state = frontier.get()"
      ],
      "metadata": {
        "id": "89FDexZF0aY0"
      },
      "execution_count": null,
      "outputs": []
    },
    {
      "cell_type": "markdown",
      "source": [
        "### Info"
      ],
      "metadata": {
        "id": "1Kn0ceXwguld"
      }
    },
    {
      "cell_type": "code",
      "source": [
        "print(f\"Solved in {counter:,} steps ({len(current_state.taken)} tiles)\")"
      ],
      "metadata": {
        "id": "N1qXMPSpgwQK",
        "colab": {
          "base_uri": "https://localhost:8080/"
        },
        "outputId": "a442a10f-36b5-4587-9213-664634128647"
      },
      "execution_count": 41,
      "outputs": [
        {
          "output_type": "stream",
          "name": "stdout",
          "text": [
            "Solved in 9 steps (9 tiles)\n"
          ]
        }
      ]
    }
  ]
}